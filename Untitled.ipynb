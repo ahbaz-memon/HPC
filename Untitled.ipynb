{
 "cells": [
  {
   "cell_type": "code",
   "execution_count": 1,
   "metadata": {},
   "outputs": [],
   "source": [
    "import random\n",
    "import time\n",
    "import multiprocessing as mp\n",
    "from numba import jit"
   ]
  },
  {
   "cell_type": "code",
   "execution_count": 2,
   "metadata": {},
   "outputs": [],
   "source": [
    "def add_serial(a,b):\n",
    "    st = time.time()\n",
    "    temp = [0]*(len(a)*len(a))\n",
    "    for i in range(len(a)*len(a)):\n",
    "        temp[i] = (a[i] ** i) + b[i]\n",
    "    print('{:.16f}'.format(time.time()- st))    "
   ]
  },
  {
   "cell_type": "code",
   "execution_count": 3,
   "metadata": {},
   "outputs": [],
   "source": [
    "def radom_array(n, minimum, maximum):\n",
    "    for i in range(n):\n",
    "        temp = []\n",
    "        temp.append(random.randint(minimum, maximum))\n",
    "    return temp    "
   ]
  },
  {
   "cell_type": "code",
   "execution_count": 4,
   "metadata": {},
   "outputs": [
    {
     "name": "stdout",
     "output_type": "stream",
     "text": [
      "Enter the size for array -> 10000000\n",
      "Enter the minimum value for array -> 1\n",
      "Enter the maximum value for array -> 1000\n"
     ]
    }
   ],
   "source": [
    "n = int(input(\"Enter the size for array -> \"))\n",
    "minimum = int(input(\"Enter the minimum value for array -> \"))\n",
    "maximum = int(input(\"Enter the maximum value for array -> \"))"
   ]
  },
  {
   "cell_type": "code",
   "execution_count": 5,
   "metadata": {},
   "outputs": [],
   "source": [
    "a = radom_array(n, minimum, maximum)\n",
    "b = radom_array(n, minimum, maximum)"
   ]
  },
  {
   "cell_type": "code",
   "execution_count": 6,
   "metadata": {},
   "outputs": [
    {
     "name": "stdout",
     "output_type": "stream",
     "text": [
      "0.0000000000000000\n"
     ]
    }
   ],
   "source": [
    "add_serial(a,b)"
   ]
  },
  {
   "cell_type": "code",
   "execution_count": 7,
   "metadata": {},
   "outputs": [
    {
     "name": "stdout",
     "output_type": "stream",
     "text": [
      "2.00000000\n"
     ]
    }
   ],
   "source": [
    "print('{:.8f}'.format(2.0))"
   ]
  },
  {
   "cell_type": "code",
   "execution_count": null,
   "metadata": {},
   "outputs": [],
   "source": []
  }
 ],
 "metadata": {
  "kernelspec": {
   "display_name": "Python [conda env:tensorflow_2] *",
   "language": "python",
   "name": "conda-env-tensorflow_2-py"
  },
  "language_info": {
   "codemirror_mode": {
    "name": "ipython",
    "version": 3
   },
   "file_extension": ".py",
   "mimetype": "text/x-python",
   "name": "python",
   "nbconvert_exporter": "python",
   "pygments_lexer": "ipython3",
   "version": "3.7.9"
  }
 },
 "nbformat": 4,
 "nbformat_minor": 4
}
