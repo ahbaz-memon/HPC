{
 "cells": [
  {
   "cell_type": "code",
   "execution_count": 1,
   "metadata": {},
   "outputs": [],
   "source": [
    "import time\n",
    "import random\n",
    "import numpy as np"
   ]
  },
  {
   "cell_type": "code",
   "execution_count": 2,
   "metadata": {},
   "outputs": [
    {
     "name": "stdout",
     "output_type": "stream",
     "text": [
      "Enter the size of array -> 5000\n",
      "Enter minimum number for random array -> 1\n",
      "Enter maximum number for random array -> 100\n"
     ]
    }
   ],
   "source": [
    "n = int(input(\"Enter the size of array -> \"))\n",
    "minimum = int(input(\"Enter minimum number for random array -> \"))\n",
    "maximum = int(input(\"Enter maximum number for random array -> \"))"
   ]
  },
  {
   "cell_type": "markdown",
   "metadata": {},
   "source": [
    "### Serial"
   ]
  },
  {
   "cell_type": "code",
   "execution_count": 3,
   "metadata": {},
   "outputs": [],
   "source": [
    "def serial_random_array(n, minimum, maximum):  \n",
    "    array = []\n",
    "    for i in range(n):\n",
    "        temp = random.randint(minimum, maximum)\n",
    "        array.append(temp)\n",
    "    return array"
   ]
  },
  {
   "cell_type": "code",
   "execution_count": 4,
   "metadata": {},
   "outputs": [],
   "source": [
    "def serial_partition(arr, low, high): \n",
    "    i = (low-1)\n",
    "    pivot = arr[high]\n",
    "    for j in range(low, high):\n",
    "        if arr[j] <= pivot: \n",
    "            i = i+1\n",
    "            arr[i], arr[j] = arr[j], arr[i] \n",
    "    arr[i+1], arr[high] = arr[high], arr[i+1] \n",
    "    return (i+1) "
   ]
  },
  {
   "cell_type": "code",
   "execution_count": 5,
   "metadata": {},
   "outputs": [],
   "source": [
    "def serial_quickSort(arr, low, high): \n",
    "    if len(arr) == 1: \n",
    "        return arr \n",
    "    if low < high:\n",
    "        pi = serial_partition(arr, low, high)\n",
    "        serial_quickSort(arr, low, pi-1) \n",
    "        serial_quickSort(arr, pi+1, high)    "
   ]
  },
  {
   "cell_type": "code",
   "execution_count": 6,
   "metadata": {},
   "outputs": [
    {
     "name": "stdout",
     "output_type": "stream",
     "text": [
      "0.03490304946899414\n"
     ]
    }
   ],
   "source": [
    "st = time.time()\n",
    "a = serial_random_array(n,minimum, maximum)\n",
    "serial_quickSort(a, 0, len(a) - 1)\n",
    "print(time.time() - st)"
   ]
  },
  {
   "cell_type": "markdown",
   "metadata": {},
   "source": [
    "### Parallel"
   ]
  },
  {
   "cell_type": "code",
   "execution_count": 7,
   "metadata": {},
   "outputs": [],
   "source": [
    "def parallel_random_array(n, minimum, maximum):\n",
    "    return np.random.randint(minimum, maximum, (n,))"
   ]
  },
  {
   "cell_type": "code",
   "execution_count": 8,
   "metadata": {},
   "outputs": [],
   "source": [
    "def parallel_partition(arr, low, high): \n",
    "    i = (low-1)\n",
    "    pivot = arr[high]\n",
    "    for j in np.arange(low, high):\n",
    "        if arr[j] <= pivot: \n",
    "            i = i+1\n",
    "            arr[i], arr[j] = arr[j], arr[i] \n",
    "    arr[i+1], arr[high] = arr[high], arr[i+1] \n",
    "    return (i+1)"
   ]
  },
  {
   "cell_type": "code",
   "execution_count": 9,
   "metadata": {},
   "outputs": [],
   "source": [
    "def parallel_quickSort(arr, low, high): \n",
    "    if len(arr) == 1: \n",
    "        return arr \n",
    "    if low < high:\n",
    "        pi = parallel_partition(arr, low, high)\n",
    "        parallel_quickSort(arr, low, pi-1) \n",
    "        parallel_quickSort(arr, pi+1, high)"
   ]
  },
  {
   "cell_type": "code",
   "execution_count": 10,
   "metadata": {},
   "outputs": [
    {
     "name": "stdout",
     "output_type": "stream",
     "text": [
      "0.12170934677124023\n"
     ]
    }
   ],
   "source": [
    "st = time.time()\n",
    "np_a = parallel_random_array(n, minimum, maximum)\n",
    "parallel_quickSort(np_a, 0, len(np_a) - 1)\n",
    "print(time.time() - st)"
   ]
  },
  {
   "cell_type": "code",
   "execution_count": null,
   "metadata": {},
   "outputs": [],
   "source": []
  }
 ],
 "metadata": {
  "kernelspec": {
   "display_name": "Python [conda env:tensorflow_2] *",
   "language": "python",
   "name": "conda-env-tensorflow_2-py"
  },
  "language_info": {
   "codemirror_mode": {
    "name": "ipython",
    "version": 3
   },
   "file_extension": ".py",
   "mimetype": "text/x-python",
   "name": "python",
   "nbconvert_exporter": "python",
   "pygments_lexer": "ipython3",
   "version": "3.7.9"
  }
 },
 "nbformat": 4,
 "nbformat_minor": 4
}
