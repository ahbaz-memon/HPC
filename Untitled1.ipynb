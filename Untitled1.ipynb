{
 "cells": [
  {
   "cell_type": "code",
   "execution_count": 1,
   "metadata": {},
   "outputs": [],
   "source": [
    "import random\n",
    "import time\n",
    "from numba import jit"
   ]
  },
  {
   "cell_type": "code",
   "execution_count": 2,
   "metadata": {},
   "outputs": [],
   "source": [
    "def random_array(n):\n",
    "    array = []\n",
    "    for i in range(n):\n",
    "        array.append(random.randint(1,1000))\n",
    "    return array    "
   ]
  },
  {
   "cell_type": "code",
   "execution_count": 3,
   "metadata": {},
   "outputs": [],
   "source": [
    "a = random_array(1000*1000*10)\n",
    "b = random_array(1000*1000*10)"
   ]
  },
  {
   "cell_type": "code",
   "execution_count": 4,
   "metadata": {},
   "outputs": [],
   "source": [
    "def f1(a,b):\n",
    "    st = time.time() \n",
    "    c = []\n",
    "    for i in range(len(a)):\n",
    "        result = a[i] + b[i]\n",
    "        c.append(result)\n",
    "    print(time.time() - st)\n",
    "    return c"
   ]
  },
  {
   "cell_type": "code",
   "execution_count": 5,
   "metadata": {},
   "outputs": [],
   "source": [
    "@jit\n",
    "def f2(a,b):\n",
    "    st = time.time() \n",
    "    c = []\n",
    "    for i in range(len(a)):\n",
    "        result = a[i] + b[i]\n",
    "        c.append(result)\n",
    "    print(time.time() - st)\n",
    "    return c"
   ]
  },
  {
   "cell_type": "code",
   "execution_count": 6,
   "metadata": {},
   "outputs": [
    {
     "name": "stdout",
     "output_type": "stream",
     "text": [
      "1.367344856262207\n"
     ]
    }
   ],
   "source": [
    "c1 = f1(a,b)"
   ]
  },
  {
   "cell_type": "code",
   "execution_count": 7,
   "metadata": {
    "scrolled": true
   },
   "outputs": [
    {
     "name": "stdout",
     "output_type": "stream",
     "text": [
      "1.3673954010009766\n"
     ]
    }
   ],
   "source": [
    "c2 = f1(a,b)"
   ]
  },
  {
   "cell_type": "code",
   "execution_count": 1,
   "metadata": {},
   "outputs": [
    {
     "name": "stdout",
     "output_type": "stream",
     "text": [
      "1.3623688220977783\n",
      "1.358638048171997\n"
     ]
    }
   ],
   "source": [
    "import random\n",
    "import time\n",
    "from numba import jit\n",
    "def random_array(n):\n",
    "    array = []\n",
    "    for i in range(n):\n",
    "        array.append(random.randint(1,1000))\n",
    "    return array    \n",
    "a = random_array(1000*1000*10)\n",
    "b = random_array(1000*1000*10)\n",
    "def f1(a,b):\n",
    "    st = time.time() \n",
    "    c = []\n",
    "    for i in range(len(a)):\n",
    "        result = a[i] + b[i]\n",
    "        c.append(result)\n",
    "    print(time.time() - st)\n",
    "    return c\n",
    "@jit\n",
    "def f2(a,b):\n",
    "    st = time.time() \n",
    "    c = []\n",
    "    for i in range(len(a)):\n",
    "        result = a[i] + b[i]\n",
    "        c.append(result)\n",
    "    print(time.time() - st)\n",
    "    return c\n",
    "c1 = f1(a,b)\n",
    "1.367344856262207\n",
    "c2 = f1(a,b)"
   ]
  },
  {
   "cell_type": "code",
   "execution_count": null,
   "metadata": {},
   "outputs": [],
   "source": []
  }
 ],
 "metadata": {
  "kernelspec": {
   "display_name": "Python [conda env:tensorflow_2] *",
   "language": "python",
   "name": "conda-env-tensorflow_2-py"
  },
  "language_info": {
   "codemirror_mode": {
    "name": "ipython",
    "version": 3
   },
   "file_extension": ".py",
   "mimetype": "text/x-python",
   "name": "python",
   "nbconvert_exporter": "python",
   "pygments_lexer": "ipython3",
   "version": "3.7.9"
  }
 },
 "nbformat": 4,
 "nbformat_minor": 4
}
