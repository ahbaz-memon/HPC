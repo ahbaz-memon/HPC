{
 "cells": [
  {
   "cell_type": "code",
   "execution_count": 1,
   "metadata": {},
   "outputs": [],
   "source": [
    "import time\n",
    "import multiprocessing as mp\n",
    "from multiprocessing import Process"
   ]
  },
  {
   "cell_type": "code",
   "execution_count": 2,
   "metadata": {},
   "outputs": [
    {
     "name": "stdout",
     "output_type": "stream",
     "text": [
      "time : 6.618299722671509\n"
     ]
    }
   ],
   "source": [
    "def cube(n):\n",
    "    st = time.time()\n",
    "    for i in range(n):\n",
    "        result = i**3\n",
    "    print(\"time :\",(time.time() - st))\n",
    "\n",
    "n = 1000*1000*10\n",
    "cube(n)\n",
    "\n",
    "P = []\n",
    "for i in range(mp.cpu_count()):\n",
    "    P.append(Process(target=cube, args=(n,)))\n",
    "for p in P:\n",
    "    p.start()\n",
    "for p in P:\n",
    "    p.join()"
   ]
  },
  {
   "cell_type": "code",
   "execution_count": 3,
   "metadata": {},
   "outputs": [],
   "source": [
    "import numpy as np"
   ]
  },
  {
   "cell_type": "code",
   "execution_count": 4,
   "metadata": {},
   "outputs": [],
   "source": [
    "def numpy_cube(n):\n",
    "    st = time.time()\n",
    "    x  = np.arange(n)\n",
    "    x = x**3    \n",
    "    print(\"time :\",(time.time() - st))"
   ]
  },
  {
   "cell_type": "code",
   "execution_count": 5,
   "metadata": {},
   "outputs": [
    {
     "name": "stdout",
     "output_type": "stream",
     "text": [
      "time : 0.08581113815307617\n"
     ]
    }
   ],
   "source": [
    "numpy_cube(n)"
   ]
  },
  {
   "cell_type": "code",
   "execution_count": null,
   "metadata": {},
   "outputs": [],
   "source": []
  }
 ],
 "metadata": {
  "kernelspec": {
   "display_name": "Python [conda env:tensorflow_2] *",
   "language": "python",
   "name": "conda-env-tensorflow_2-py"
  },
  "language_info": {
   "codemirror_mode": {
    "name": "ipython",
    "version": 3
   },
   "file_extension": ".py",
   "mimetype": "text/x-python",
   "name": "python",
   "nbconvert_exporter": "python",
   "pygments_lexer": "ipython3",
   "version": "3.7.9"
  }
 },
 "nbformat": 4,
 "nbformat_minor": 4
}
