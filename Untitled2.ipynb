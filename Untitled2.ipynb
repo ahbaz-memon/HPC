{
 "cells": [
  {
   "cell_type": "code",
   "execution_count": 1,
   "metadata": {},
   "outputs": [
    {
     "name": "stdout",
     "output_type": "stream",
     "text": [
      "registering process 0\n",
      "registering process 1\n",
      "registering process 2\n",
      "registering process 3\n",
      "registering process 4\n",
      "registering process 5\n",
      "registering process 6\n",
      "registering process 7\n",
      "registering process 8\n",
      "registering process 9\n",
      "registering process 10\n",
      "registering process 11\n"
     ]
    }
   ],
   "source": [
    "from multiprocessing import Process\n",
    "import os\n",
    "import math\n",
    "\n",
    "def calc():\n",
    "\tfor i in range(0, 70000000):\n",
    "\t\tmath.sqrt(i)\n",
    "\n",
    "processes = []\n",
    "\n",
    "for i in range(os.cpu_count()):\n",
    "\tprint('registering process %d' % i)\n",
    "\tprocesses.append(Process(target=calc))\n",
    "\n",
    "for process in processes:\n",
    "\tprocess.start()\n",
    "\n",
    "for process in processes:\n",
    "\tprocess.join()"
   ]
  },
  {
   "cell_type": "code",
   "execution_count": null,
   "metadata": {},
   "outputs": [],
   "source": []
  }
 ],
 "metadata": {
  "kernelspec": {
   "display_name": "Python 3",
   "language": "python",
   "name": "python3"
  },
  "language_info": {
   "codemirror_mode": {
    "name": "ipython",
    "version": 3
   },
   "file_extension": ".py",
   "mimetype": "text/x-python",
   "name": "python",
   "nbconvert_exporter": "python",
   "pygments_lexer": "ipython3",
   "version": "3.7.9"
  }
 },
 "nbformat": 4,
 "nbformat_minor": 4
}
