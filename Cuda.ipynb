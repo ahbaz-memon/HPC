{
 "cells": [
  {
   "cell_type": "code",
   "execution_count": 1,
   "metadata": {},
   "outputs": [],
   "source": [
    "# Roll : PB11\n",
    "# Name : Ahbaz Memon\n",
    "# Subj : HPC\n",
    "# Assi : 06(CUDA)   "
   ]
  },
  {
   "cell_type": "code",
   "execution_count": 2,
   "metadata": {},
   "outputs": [],
   "source": [
    "import time\n",
    "import random\n",
    "import numpy as np\n",
    "from numba import jit, njit, vectorize, cuda, uint32, f8, uint8\n",
    "from numba import cuda"
   ]
  },
  {
   "cell_type": "code",
   "execution_count": 3,
   "metadata": {},
   "outputs": [
    {
     "name": "stdout",
     "output_type": "stream",
     "text": [
      "Enter the size of vector -> 10000000\n",
      "Enter minimum number for random -> 1\n",
      "Enter maximum number for random -> 10000\n"
     ]
    }
   ],
   "source": [
    "n = int(input(\"Enter the size of vector -> \"))\n",
    "minimum = int(input(\"Enter minimum number for random -> \"))\n",
    "maximum = int(input(\"Enter maximum number for random -> \"))"
   ]
  },
  {
   "cell_type": "markdown",
   "metadata": {},
   "source": [
    "# Serial"
   ]
  },
  {
   "cell_type": "code",
   "execution_count": 4,
   "metadata": {},
   "outputs": [],
   "source": [
    "def serial_random_array(n, minimum, maximum):\n",
    "    temp = []\n",
    "    for j in range(n):\n",
    "        temp.append(random.randint(minimum, maximum))\n",
    "    return temp"
   ]
  },
  {
   "cell_type": "code",
   "execution_count": 5,
   "metadata": {},
   "outputs": [],
   "source": [
    "def serial_minimum(a):\n",
    "    return min(a)"
   ]
  },
  {
   "cell_type": "code",
   "execution_count": 6,
   "metadata": {},
   "outputs": [
    {
     "name": "stdout",
     "output_type": "stream",
     "text": [
      "time when cuda is inactive  10.497056007385254\n"
     ]
    }
   ],
   "source": [
    "st = time.time()\n",
    "a = serial_random_array(n, minimum, maximum)\n",
    "serial_minimum(a)\n",
    "print(\"time when cuda is inactive \", time.time() - st)"
   ]
  },
  {
   "cell_type": "markdown",
   "metadata": {},
   "source": [
    "# Numba.Cuda + Numpy"
   ]
  },
  {
   "cell_type": "code",
   "execution_count": 7,
   "metadata": {},
   "outputs": [
    {
     "name": "stdout",
     "output_type": "stream",
     "text": [
      "Is cuda available ?  True\n"
     ]
    }
   ],
   "source": [
    "print(\"Is cuda available ? \",cuda.is_available())"
   ]
  },
  {
   "cell_type": "code",
   "execution_count": 8,
   "metadata": {},
   "outputs": [
    {
     "name": "stdout",
     "output_type": "stream",
     "text": [
      "No. of GPUs running  1\n"
     ]
    }
   ],
   "source": [
    "print(\"No. of GPUs running \",len(cuda.gpus))"
   ]
  },
  {
   "cell_type": "code",
   "execution_count": 9,
   "metadata": {},
   "outputs": [],
   "source": [
    "#@njit\n",
    "def cuda_random_array(n, minimum, maximum):\n",
    "    return np.random.randint(minimum, maximum, size = n, dtype = 'int32')"
   ]
  },
  {
   "cell_type": "code",
   "execution_count": 10,
   "metadata": {},
   "outputs": [],
   "source": [
    "#@vectorize([\"int32(int32)\"])\n",
    "#@cuda.jit\n",
    "# @cuda.jit('int32[:](int32[:])')\n",
    "@njit\n",
    "def cuda_minimum(cuda_a):\n",
    "    return cuda_a.min()"
   ]
  },
  {
   "cell_type": "code",
   "execution_count": 12,
   "metadata": {},
   "outputs": [
    {
     "name": "stdout",
     "output_type": "stream",
     "text": [
      "time when cuda is active  0.002994060516357422\n"
     ]
    }
   ],
   "source": [
    "cuda_a = cuda_random_array(n, minimum, maximum)\n",
    "st = time.time()\n",
    "cuda_minimum(cuda_a)\n",
    "print(\"time when cuda is active \", time.time() - st)"
   ]
  }
 ],
 "metadata": {
  "kernelspec": {
   "display_name": "Python [conda env:tensorflow_2] *",
   "language": "python",
   "name": "conda-env-tensorflow_2-py"
  },
  "language_info": {
   "codemirror_mode": {
    "name": "ipython",
    "version": 3
   },
   "file_extension": ".py",
   "mimetype": "text/x-python",
   "name": "python",
   "nbconvert_exporter": "python",
   "pygments_lexer": "ipython3",
   "version": "3.7.9"
  }
 },
 "nbformat": 4,
 "nbformat_minor": 4
}
